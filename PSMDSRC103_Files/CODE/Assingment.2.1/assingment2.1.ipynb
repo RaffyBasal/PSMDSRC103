{
 "cells": [
  {
   "cell_type": "code",
   "execution_count": 13,
   "metadata": {},
   "outputs": [
    {
     "name": "stdout",
     "output_type": "stream",
     "text": [
      "Censored Sentence: This is a Bad example of a ******** sentence.\n"
     ]
    }
   ],
   "source": [
    "# Create a function that would accept two inputs: a sentence(string), \n",
    "# and a list containing bad words that the user would like to censor but not remove. \n",
    "# The function should return the newly filtered sentence wherein \n",
    "# the bad words are replaced with asterisks equal to the length of the censored word.\n",
    "\n",
    "# Task 1: Censoring Bad Words in a Sentence\n",
    "def censor_sentence(sentence: str, bad_words: list) -> str: # this is a return type annotation, this indicate that the retun value is string\n",
    "    for bad_word in bad_words: # the loop starts\n",
    "        sentence = sentence.replace(bad_word, '*' * len(bad_word))\n",
    "    return sentence\n",
    "\n",
    "# Predefined list of bad words to censor\n",
    "bad_words = [\"bastard\", \"bitch\", \"rude\", \"horrible\", \"demon\", \"go to hell\", \"dickhead\"]\n",
    "\n",
    "# Get user input for the sentence\n",
    "sentence = input(\"Enter a sentence: \")\n",
    "\n",
    "# Call the function with predefined bad words list and print the censored sentence\n",
    "censored_sentence = censor_sentence(sentence, bad_words)\n",
    "print(\"Censored Sentence:\", censored_sentence)\n",
    "\n",
    "# only the bad_word define list will be censored. If you supply anything that out of the list will show in the sentence.\n"
   ]
  },
  {
   "cell_type": "code",
   "execution_count": 21,
   "metadata": {},
   "outputs": [
    {
     "name": "stdout",
     "output_type": "stream",
     "text": [
      "Results:\n",
      "No real roots.\n"
     ]
    }
   ],
   "source": [
    "# Create a quadratic equation solver module that would write the inputs of \n",
    "# the user and the corresponding output into text files.\n",
    "\n",
    "import math\n",
    "\n",
    "# Function to solve the quadratic equation\n",
    "def solve_quadratic(a: float, b: float, c: float) -> tuple: #will return tuple type\n",
    "    discriminant = b**2 - 4*a*c  # Calculate the discriminant\n",
    "    if discriminant > 0:\n",
    "        root1 = (-b + math.sqrt(discriminant)) / (2*a)\n",
    "        root2 = (-b - math.sqrt(discriminant)) / (2*a)\n",
    "        return root1, root2\n",
    "    elif discriminant == 0:\n",
    "        root = -b / (2*a)\n",
    "        return root, root  # One real root (double root)\n",
    "    else:\n",
    "        return None, None  # No real roots (complex roots)\n",
    "\n",
    "# Function to write inputs and results to a text file\n",
    "# found in this folder\n",
    "def write_to_file(data: str):\n",
    "    with open('quadratic_solver_results.txt', 'a') as file:\n",
    "        file.write(data + '\\n')\n",
    "\n",
    "# Main function to take user input, solve the equation, and write the results\n",
    "def quadratic_solver():\n",
    "    # Get user input for coefficients a, b, and c\n",
    "    a = float(input(\"Enter coefficient a: \"))\n",
    "    b = float(input(\"Enter coefficient b: \"))\n",
    "    c = float(input(\"Enter constant c: \"))\n",
    "\n",
    "    # Solve the quadratic equation, looping to the def solve_quadratic line\n",
    "    roots = solve_quadratic(a, b, c)\n",
    "\n",
    "    # Prepare the output for writing to the file\n",
    "    equation = f\"Quadratic Equation: {a}x^2 + {b}x + {c} = 0\" \n",
    "    \n",
    "    if roots == (None, None):\n",
    "        result = \"No real roots.\"\n",
    "    elif roots[0] == roots[1]:\n",
    "        result = f\"One real root: x = {roots[0]}\"\n",
    "    else:\n",
    "        result = f\"Two real roots: x1 = {roots[0]}, x2 = {roots[1]}\"\n",
    "\n",
    "    # Write the inputs and the result to a file\n",
    "    write_to_file(equation)\n",
    "    write_to_file(result)\n",
    "\n",
    "    # Display the result to the user\n",
    "    print(\"Results:\")\n",
    "    print(result)\n",
    "\n",
    "# Run the quadratic solver\n",
    "quadratic_solver()\n"
   ]
  },
  {
   "cell_type": "code",
   "execution_count": null,
   "metadata": {},
   "outputs": [],
   "source": []
  }
 ],
 "metadata": {
  "kernelspec": {
   "display_name": "Python 3",
   "language": "python",
   "name": "python3"
  },
  "language_info": {
   "codemirror_mode": {
    "name": "ipython",
    "version": 3
   },
   "file_extension": ".py",
   "mimetype": "text/x-python",
   "name": "python",
   "nbconvert_exporter": "python",
   "pygments_lexer": "ipython3",
   "version": "3.11.9"
  }
 },
 "nbformat": 4,
 "nbformat_minor": 2
}
