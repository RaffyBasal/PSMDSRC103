{
 "cells": [
  {
   "cell_type": "code",
   "execution_count": null,
   "metadata": {},
   "outputs": [],
   "source": [
    "\"\"\"\n",
    "Accounts.py\n",
    "\"\"\"\n",
    "\n",
    "class Accounts:\n",
    "     def __init__(self):\n",
    "    # create the class\n",
    "        account_number = 0\n",
    "        account_firstname = \"\"\n",
    "        account_lastname = \"\"\n",
    "        current_balance = 0.0\n",
    "        address = \"\"\n",
    "        email = \"\"\n",
    "    # use to identify a certain accounts to be called\n",
    "        def update_address(self, new_address):\n",
    "            self.address = new_address  # Use self to modify the object's attribute\n",
    "\n",
    "        def update_email(self, new_email):\n",
    "            self.email = new_email  # Use self to modify the object's attribute\n"
   ]
  }
 ],
 "metadata": {
  "kernelspec": {
   "display_name": "Python 3",
   "language": "python",
   "name": "python3"
  },
  "language_info": {
   "name": "python",
   "version": "3.11.9"
  }
 },
 "nbformat": 4,
 "nbformat_minor": 2
}
