{
 "cells": [
  {
   "cell_type": "code",
   "execution_count": 3,
   "metadata": {},
   "outputs": [
    {
     "ename": "ModuleNotFoundError",
     "evalue": "No module named 'Accounts'",
     "output_type": "error",
     "traceback": [
      "\u001b[1;31m---------------------------------------------------------------------------\u001b[0m",
      "\u001b[1;31mModuleNotFoundError\u001b[0m                       Traceback (most recent call last)",
      "Cell \u001b[1;32mIn[3], line 1\u001b[0m\n\u001b[1;32m----> 1\u001b[0m \u001b[38;5;28;01mimport\u001b[39;00m \u001b[38;5;21;01mAccounts\u001b[39;00m\n\u001b[0;32m      3\u001b[0m \u001b[38;5;66;03m# Create the first instance/object\u001b[39;00m\n\u001b[0;32m      4\u001b[0m Account1 \u001b[38;5;241m=\u001b[39m Accounts\u001b[38;5;241m.\u001b[39mAccounts()\n",
      "\u001b[1;31mModuleNotFoundError\u001b[0m: No module named 'Accounts'"
     ]
    }
   ],
   "source": [
    "import Accounts\n",
    "\n",
    "# Create the first instance/object\n",
    "Account1 = Accounts.Accounts()\n",
    "\n",
    "print(\"Account 1\")\n",
    "Account1.account_firstname = \"Royce\"\n",
    "Account1.account_lastname = \"Chua\"\n",
    "Account1.current_balance = 1000\n",
    "Account1.address = \"Silver Street Quezon City\"\n",
    "Account1.email = \"roycechua123@gmail.com\"\n",
    "\n",
    "print(Account1.account_firstname)\n",
    "print(Account1.account_lastname)\n",
    "print(Account1.current_balance)\n",
    "print(Account1.address)\n",
    "print(Account1.email)\n",
    "\n",
    "print()\n",
    "\n",
    "# Create the second instance/object\n",
    "Account2 = Accounts.Accounts()\n",
    "Account2.account_firstname = \"John\"\n",
    "Account2.account_lastname = \"Doe\"\n",
    "Account2.current_balance = 2000\n",
    "Account2.address = \"Gold Street Quezon City\"\n",
    "Account2.email = \"johndoe@yahoo.com\"\n",
    "\n",
    "print(\"Account 2\")\n",
    "print(Account2.account_firstname)\n",
    "print(Account2.account_lastname)\n",
    "print(Account2.current_balance)\n",
    "print(Account2.address)\n",
    "print(Account2.email)"
   ]
  },
  {
   "cell_type": "code",
   "execution_count": null,
   "metadata": {},
   "outputs": [],
   "source": []
  }
 ],
 "metadata": {
  "kernelspec": {
   "display_name": "Python 3",
   "language": "python",
   "name": "python3"
  },
  "language_info": {
   "codemirror_mode": {
    "name": "ipython",
    "version": 3
   },
   "file_extension": ".py",
   "mimetype": "text/x-python",
   "name": "python",
   "nbconvert_exporter": "python",
   "pygments_lexer": "ipython3",
   "version": "3.11.9"
  }
 },
 "nbformat": 4,
 "nbformat_minor": 2
}
